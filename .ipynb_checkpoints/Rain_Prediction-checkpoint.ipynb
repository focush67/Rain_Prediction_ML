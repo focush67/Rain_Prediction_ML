{
 "cells": [
  {
   "cell_type": "code",
   "execution_count": 1,
   "id": "2daf962c",
   "metadata": {},
   "outputs": [],
   "source": [
    "# Importing the standard ML Libraries\n",
    "import pandas as pd\n",
    "import numpy as np\n",
    "import matplotlib.pyplot as plt\n",
    "import seaborn as sns"
   ]
  },
  {
   "cell_type": "code",
   "execution_count": 2,
   "id": "f4850da1",
   "metadata": {},
   "outputs": [],
   "source": [
    "# Importing the dataset\n",
    "weather = pd.read_csv(\"weather.csv\")"
   ]
  },
  {
   "cell_type": "code",
   "execution_count": 3,
   "id": "3995a0b4",
   "metadata": {},
   "outputs": [
    {
     "name": "stdout",
     "output_type": "stream",
     "text": [
      "<class 'pandas.core.frame.DataFrame'>\n",
      "RangeIndex: 366 entries, 0 to 365\n",
      "Data columns (total 22 columns):\n",
      " #   Column         Non-Null Count  Dtype  \n",
      "---  ------         --------------  -----  \n",
      " 0   MinTemp        366 non-null    float64\n",
      " 1   MaxTemp        366 non-null    float64\n",
      " 2   Rainfall       366 non-null    float64\n",
      " 3   Evaporation    366 non-null    float64\n",
      " 4   Sunshine       363 non-null    float64\n",
      " 5   WindGustDir    363 non-null    object \n",
      " 6   WindGustSpeed  364 non-null    float64\n",
      " 7   WindDir9am     335 non-null    object \n",
      " 8   WindDir3pm     365 non-null    object \n",
      " 9   WindSpeed9am   359 non-null    float64\n",
      " 10  WindSpeed3pm   366 non-null    int64  \n",
      " 11  Humidity9am    366 non-null    int64  \n",
      " 12  Humidity3pm    366 non-null    int64  \n",
      " 13  Pressure9am    366 non-null    float64\n",
      " 14  Pressure3pm    366 non-null    float64\n",
      " 15  Cloud9am       366 non-null    int64  \n",
      " 16  Cloud3pm       366 non-null    int64  \n",
      " 17  Temp9am        366 non-null    float64\n",
      " 18  Temp3pm        366 non-null    float64\n",
      " 19  RainToday      366 non-null    object \n",
      " 20  RISK_MM        366 non-null    float64\n",
      " 21  RainTomorrow   366 non-null    object \n",
      "dtypes: float64(12), int64(5), object(5)\n",
      "memory usage: 63.0+ KB\n"
     ]
    }
   ],
   "source": [
    "# Checking the dataset for information\n",
    "weather.info()"
   ]
  },
  {
   "cell_type": "code",
   "execution_count": 4,
   "id": "c3efad82",
   "metadata": {},
   "outputs": [
    {
     "name": "stdout",
     "output_type": "stream",
     "text": [
      "Number of Categorical Features : 5\n",
      "Categorical Features :  ['WindGustDir', 'WindDir9am', 'WindDir3pm', 'RainToday', 'RainTomorrow']\n"
     ]
    }
   ],
   "source": [
    "# Finding categorical features which are non-numeric (neither float64 nor int64)\n",
    "categ_features = [col for col in weather.columns if weather[col].dtype == 'O']\n",
    "print(\"Number of Categorical Features : {}\".format(len(categ_features)))\n",
    "print(\"Categorical Features : \",categ_features)"
   ]
  },
  {
   "cell_type": "code",
   "execution_count": 5,
   "id": "879a5c81",
   "metadata": {},
   "outputs": [
    {
     "name": "stdout",
     "output_type": "stream",
     "text": [
      "Number of Numerical Features : 17\n",
      "Numerical Features :  ['MinTemp', 'MaxTemp', 'Rainfall', 'Evaporation', 'Sunshine', 'WindGustSpeed', 'WindSpeed9am', 'WindSpeed3pm', 'Humidity9am', 'Humidity3pm', 'Pressure9am', 'Pressure3pm', 'Cloud9am', 'Cloud3pm', 'Temp9am', 'Temp3pm', 'RISK_MM']\n"
     ]
    }
   ],
   "source": [
    "# Finding numerical features which are either float64 or int64\n",
    "num_features = [col for col in weather.columns if weather[col].dtype != 'O']\n",
    "print(\"Number of Numerical Features : {}\".format(len(num_features)))\n",
    "print(\"Numerical Features : \",num_features)"
   ]
  },
  {
   "cell_type": "code",
   "execution_count": 6,
   "id": "f60c8f98",
   "metadata": {},
   "outputs": [
    {
     "name": "stdout",
     "output_type": "stream",
     "text": [
      "No. of Unique Values of WindGustDir are : 17\n",
      "No. of Unique Values of WindDir9am are : 17\n",
      "No. of Unique Values of WindDir3pm are : 17\n",
      "No. of Unique Values of RainToday are : 2\n",
      "No. of Unique Values of RainTomorrow are : 2\n"
     ]
    }
   ],
   "source": [
    "# Finding the number of unique values in the categorical data for further use\n",
    "for x in categ_features:\n",
    "    val = len(weather[x].unique())\n",
    "    print(\"No. of Unique Values of {} are : {}\".format(x,val))"
   ]
  },
  {
   "cell_type": "code",
   "execution_count": 7,
   "id": "e0e1a636",
   "metadata": {},
   "outputs": [
    {
     "data": {
      "text/plain": [
       "WindGustDir      3\n",
       "WindDir9am      31\n",
       "WindDir3pm       1\n",
       "RainToday        0\n",
       "RainTomorrow     0\n",
       "dtype: int64"
      ]
     },
     "execution_count": 7,
     "metadata": {},
     "output_type": "execute_result"
    }
   ],
   "source": [
    "# Finding number of null values in categorical values set\n",
    "categ_features = [col for col in weather.columns if weather[col].dtype == 'O']\n",
    "weather[categ_features].isnull().sum()"
   ]
  },
  {
   "cell_type": "code",
   "execution_count": 8,
   "id": "0de5d092",
   "metadata": {},
   "outputs": [],
   "source": [
    "# Filling categorical values with their respective mode\n",
    "categ_null = [ft for ft in categ_features if weather[ft].isnull().sum()]\n",
    "for x in categ_null:\n",
    "    mode_val = weather[x].mode()[0]\n",
    "    weather[x].fillna(mode_val , inplace = True)"
   ]
  },
  {
   "cell_type": "code",
   "execution_count": 9,
   "id": "9489e08e",
   "metadata": {},
   "outputs": [],
   "source": [
    "# Filling numerical values with their respective mode\n",
    "num_null = [ft for ft in num_features if weather[ft].isnull().sum()]\n",
    "for x in num_null:\n",
    "    mode_val = weather[x].mode()[0]\n",
    "    weather[x].fillna(mode_val , inplace = True)"
   ]
  },
  {
   "cell_type": "code",
   "execution_count": 10,
   "id": "d3a3ffd3",
   "metadata": {},
   "outputs": [
    {
     "data": {
      "text/plain": [
       "<AxesSubplot: >"
      ]
     },
     "execution_count": 10,
     "metadata": {},
     "output_type": "execute_result"
    },
    {
     "data": {
      "image/png": "[encoded data removed]",
      "text/plain": [
       "<Figure size 640x480 with 1 Axes>"
      ]
     },
     "metadata": {},
     "output_type": "display_data"
    }
   ],
   "source": [
    "weather[\"RainToday\"].value_counts().plot(kind = 'bar')"
   ]
  },
  {
   "cell_type": "code",
   "execution_count": 11,
   "id": "b077d6f6",
   "metadata": {},
   "outputs": [],
   "source": [
    "# sns.lineplot(data = weather , x = \"Rainfall\" , y = \"MaxTemp\" , color = 'green')"
   ]
  },
  {
   "cell_type": "code",
   "execution_count": null,
   "id": "2fb6bb4b",
   "metadata": {},
   "outputs": [],
   "source": []
  },
  {
   "cell_type": "code",
   "execution_count": 12,
   "id": "4cbd4a78",
   "metadata": {},
   "outputs": [],
   "source": [
    "# This function is used to convert values into numeric types for easier handling\n",
    "def util(name):\n",
    "    map_dict = {}\n",
    "    unique = list(weather[name].unique())\n",
    "    for idx in range(len(unique)):\n",
    "        map_dict[unique[idx]] = idx\n",
    "        \n",
    "    return map_dict"
   ]
  },
  {
   "cell_type": "code",
   "execution_count": 13,
   "id": "4c739514",
   "metadata": {},
   "outputs": [],
   "source": [
    "weather[\"RainToday\"].replace({'No':0 ,'Yes':1} , inplace = True)\n",
    "weather[\"RainTomorrow\"].replace({'No':0 ,'Yes':1} , inplace = True)\n",
    "weather[\"WindGustDir\"].replace(util('WindGustDir') , inplace = True)\n",
    "weather[\"WindDir9am\"].replace(util('WindDir9am') , inplace = True)\n",
    "weather[\"WindDir3pm\"].replace(util('WindDir3pm') , inplace = True)"
   ]
  },
  {
   "cell_type": "code",
   "execution_count": 14,
   "id": "40be15da",
   "metadata": {},
   "outputs": [
    {
     "name": "stdout",
     "output_type": "stream",
     "text": [
      "<class 'pandas.core.frame.DataFrame'>\n",
      "RangeIndex: 366 entries, 0 to 365\n",
      "Data columns (total 22 columns):\n",
      " #   Column         Non-Null Count  Dtype  \n",
      "---  ------         --------------  -----  \n",
      " 0   MinTemp        366 non-null    float64\n",
      " 1   MaxTemp        366 non-null    float64\n",
      " 2   Rainfall       366 non-null    float64\n",
      " 3   Evaporation    366 non-null    float64\n",
      " 4   Sunshine       366 non-null    float64\n",
      " 5   WindGustDir    366 non-null    int64  \n",
      " 6   WindGustSpeed  366 non-null    float64\n",
      " 7   WindDir9am     366 non-null    int64  \n",
      " 8   WindDir3pm     366 non-null    int64  \n",
      " 9   WindSpeed9am   366 non-null    float64\n",
      " 10  WindSpeed3pm   366 non-null    int64  \n",
      " 11  Humidity9am    366 non-null    int64  \n",
      " 12  Humidity3pm    366 non-null    int64  \n",
      " 13  Pressure9am    366 non-null    float64\n",
      " 14  Pressure3pm    366 non-null    float64\n",
      " 15  Cloud9am       366 non-null    int64  \n",
      " 16  Cloud3pm       366 non-null    int64  \n",
      " 17  Temp9am        366 non-null    float64\n",
      " 18  Temp3pm        366 non-null    float64\n",
      " 19  RainToday      366 non-null    int64  \n",
      " 20  RISK_MM        366 non-null    float64\n",
      " 21  RainTomorrow   366 non-null    int64  \n",
      "dtypes: float64(12), int64(10)\n",
      "memory usage: 63.0 KB\n"
     ]
    }
   ],
   "source": [
    "weather.info()"
   ]
  },
  {
   "cell_type": "code",
   "execution_count": 15,
   "id": "a8213b61",
   "metadata": {},
   "outputs": [],
   "source": [
    "X = weather.drop([\"RainTomorrow\"] , axis = 1)\n",
    "Y = weather[\"RainTomorrow\"]"
   ]
  },
  {
   "cell_type": "code",
   "execution_count": 16,
   "id": "fdccd68d",
   "metadata": {},
   "outputs": [
    {
     "data": {
      "text/plain": [
       "array([0.00293132, 0.00361832, 0.00186758, 0.00521176, 0.01680783,\n",
       "       0.00173697, 0.0089545 , 0.00120192, 0.0035726 , 0.00416467,\n",
       "       0.00420989, 0.00401515, 0.03180651, 0.00990676, 0.03022857,\n",
       "       0.00242923, 0.04500734, 0.00476036, 0.00450368, 0.00093858,\n",
       "       0.81212644])"
      ]
     },
     "execution_count": 16,
     "metadata": {},
     "output_type": "execute_result"
    }
   ],
   "source": [
    "from sklearn.ensemble import ExtraTreesRegressor\n",
    "et_m = ExtraTreesRegressor()\n",
    "et_m.fit(X,Y)\n",
    "et_m.feature_importances_"
   ]
  },
  {
   "cell_type": "code",
   "execution_count": 17,
   "id": "304a1c20",
   "metadata": {},
   "outputs": [
    {
     "data": {
      "text/plain": [
       "<AxesSubplot: >"
      ]
     },
     "execution_count": 17,
     "metadata": {},
     "output_type": "execute_result"
    },
    {
     "data": {
      "image/png": "[encoded data removed]",
      "text/plain": [
       "<Figure size 640x480 with 1 Axes>"
      ]
     },
     "metadata": {},
     "output_type": "display_data"
    }
   ],
   "source": [
    "ft_imp = pd.Series(et_m.feature_importances_ , index = X.columns)\n",
    "ft_imp.nlargest(10).plot(kind = 'barh')"
   ]
  },
  {
   "cell_type": "code",
   "execution_count": 18,
   "id": "09d173ec",
   "metadata": {},
   "outputs": [],
   "source": [
    "from sklearn.model_selection import train_test_split as TTS\n",
    "X_train , X_test , Y_train , Y_test = TTS(X,Y,test_size=0.2,random_state=0)"
   ]
  },
  {
   "cell_type": "code",
   "execution_count": 19,
   "id": "fcff5d22",
   "metadata": {},
   "outputs": [
    {
     "name": "stdout",
     "output_type": "stream",
     "text": [
      "TRAINING DATA : 292\n",
      "TESTING DATA : 74\n"
     ]
    }
   ],
   "source": [
    "print(\"TRAINING DATA : {}\".format(len(X_train)))\n",
    "print(\"TESTING DATA : {}\".format(len(X_test)))"
   ]
  },
  {
   "cell_type": "code",
   "execution_count": 20,
   "id": "93c5cd7d",
   "metadata": {},
   "outputs": [],
   "source": [
    "from sklearn.preprocessing import StandardScaler as SS\n",
    "sca = SS()\n",
    "X_train = sca.fit_transform(X_train)\n",
    "X_test = sca.fit_transform(X_test)"
   ]
  },
  {
   "cell_type": "code",
   "execution_count": 21,
   "id": "2416a098",
   "metadata": {},
   "outputs": [
    {
     "data": {
      "text/html": [
       "<style>#sk-container-id-1 {color: black;background-color: white;}#sk-container-id-1 pre{padding: 0;}#sk-container-id-1 div.sk-toggleable {background-color: white;}#sk-container-id-1 label.sk-toggleable__label {cursor: pointer;display: block;width: 100%;margin-bottom: 0;padding: 0.3em;box-sizing: border-box;text-align: center;}#sk-container-id-1 label.sk-toggleable__label-arrow:before {content: \"▸\";float: left;margin-right: 0.25em;color: #696969;}#sk-container-id-1 label.sk-toggleable__label-arrow:hover:before {color: black;}#sk-container-id-1 div.sk-estimator:hover label.sk-toggleable__label-arrow:before {color: black;}#sk-container-id-1 div.sk-toggleable__content {max-height: 0;max-width: 0;overflow: hidden;text-align: left;background-color: #f0f8ff;}#sk-container-id-1 div.sk-toggleable__content pre {margin: 0.2em;color: black;border-radius: 0.25em;background-color: #f0f8ff;}#sk-container-id-1 input.sk-toggleable__control:checked~div.sk-toggleable__content {max-height: 200px;max-width: 100%;overflow: auto;}#sk-container-id-1 input.sk-toggleable__control:checked~label.sk-toggleable__label-arrow:before {content: \"▾\";}#sk-container-id-1 div.sk-estimator input.sk-toggleable__control:checked~label.sk-toggleable__label {background-color: #d4ebff;}#sk-container-id-1 div.sk-label input.sk-toggleable__control:checked~label.sk-toggleable__label {background-color: #d4ebff;}#sk-container-id-1 input.sk-hidden--visually {border: 0;clip: rect(1px 1px 1px 1px);clip: rect(1px, 1px, 1px, 1px);height: 1px;margin: -1px;overflow: hidden;padding: 0;position: absolute;width: 1px;}#sk-container-id-1 div.sk-estimator {font-family: monospace;background-color: #f0f8ff;border: 1px dotted black;border-radius: 0.25em;box-sizing: border-box;margin-bottom: 0.5em;}#sk-container-id-1 div.sk-estimator:hover {background-color: #d4ebff;}#sk-container-id-1 div.sk-parallel-item::after {content: \"\";width: 100%;border-bottom: 1px solid gray;flex-grow: 1;}#sk-container-id-1 div.sk-label:hover label.sk-toggleable__label {background-color: #d4ebff;}#sk-container-id-1 div.sk-serial::before {content: \"\";position: absolute;border-left: 1px solid gray;box-sizing: border-box;top: 0;bottom: 0;left: 50%;z-index: 0;}#sk-container-id-1 div.sk-serial {display: flex;flex-direction: column;align-items: center;background-color: white;padding-right: 0.2em;padding-left: 0.2em;position: relative;}#sk-container-id-1 div.sk-item {position: relative;z-index: 1;}#sk-container-id-1 div.sk-parallel {display: flex;align-items: stretch;justify-content: center;background-color: white;position: relative;}#sk-container-id-1 div.sk-item::before, #sk-container-id-1 div.sk-parallel-item::before {content: \"\";position: absolute;border-left: 1px solid gray;box-sizing: border-box;top: 0;bottom: 0;left: 50%;z-index: -1;}#sk-container-id-1 div.sk-parallel-item {display: flex;flex-direction: column;z-index: 1;position: relative;background-color: white;}#sk-container-id-1 div.sk-parallel-item:first-child::after {align-self: flex-end;width: 50%;}#sk-container-id-1 div.sk-parallel-item:last-child::after {align-self: flex-start;width: 50%;}#sk-container-id-1 div.sk-parallel-item:only-child::after {width: 0;}#sk-container-id-1 div.sk-dashed-wrapped {border: 1px dashed gray;margin: 0 0.4em 0.5em 0.4em;box-sizing: border-box;padding-bottom: 0.4em;background-color: white;}#sk-container-id-1 div.sk-label label {font-family: monospace;font-weight: bold;display: inline-block;line-height: 1.2em;}#sk-container-id-1 div.sk-label-container {text-align: center;}#sk-container-id-1 div.sk-container {/* jupyter's `normalize.less` sets `[hidden] { display: none; }` but bootstrap.min.css set `[hidden] { display: none !important; }` so we also need the `!important` here to be able to override the default hidden behavior on the sphinx rendered scikit-learn.org. See: https://github.com/scikit-learn/scikit-learn/issues/21755 */display: inline-block !important;position: relative;}#sk-container-id-1 div.sk-text-repr-fallback {display: none;}</style><div id=\"sk-container-id-1\" class=\"sk-top-container\"><div class=\"sk-text-repr-fallback\"><pre>KNeighborsClassifier()</pre><b>In a Jupyter environment, please rerun this cell to show the HTML representation or trust the notebook. <br />On GitHub, the HTML representation is unable to render, please try loading this page with nbviewer.org.</b></div><div class=\"sk-container\" hidden><div class=\"sk-item\"><div class=\"sk-estimator sk-toggleable\"><input class=\"sk-toggleable__control sk-hidden--visually\" id=\"sk-estimator-id-1\" type=\"checkbox\" checked><label for=\"sk-estimator-id-1\" class=\"sk-toggleable__label sk-toggleable__label-arrow\">KNeighborsClassifier</label><div class=\"sk-toggleable__content\"><pre>KNeighborsClassifier()</pre></div></div></div></div></div>"
      ],
      "text/plain": [
       "KNeighborsClassifier()"
      ]
     },
     "execution_count": 21,
     "metadata": {},
     "output_type": "execute_result"
    }
   ],
   "source": [
    "from sklearn.linear_model import LogisticRegression as LoR\n",
    "# from sklearn.ensemble import RandomForestClassifier as RFC\n",
    "# from sklearn.linear_model import SGDClassifier as SGD\n",
    "# from sklearn.tree import DecisionTreeClassifier as DTC\n",
    "# from sklearn.naive_bayes import GaussianNB as GNB\n",
    "# from sklearn.neighbors import KNeighborsClassifier as KNN\n",
    "model = LoR()\n",
    "model.fit(X_train , Y_train)"
   ]
  },
  {
   "cell_type": "code",
   "execution_count": 22,
   "id": "36ba9939",
   "metadata": {},
   "outputs": [
    {
     "data": {
      "text/plain": [
       "array([0, 0, 1, 0, 1, 0, 0, 0, 0, 0, 0, 0, 0, 0, 0, 0, 0, 0, 0, 0, 0, 0,\n",
       "       0, 0, 0, 0, 0, 0, 0, 0, 0, 0, 0, 0, 0, 0, 0, 0, 0, 0, 0, 0, 0, 0,\n",
       "       0, 0, 0, 0, 0, 0, 0, 0, 0, 0, 0, 0, 0, 0, 0, 1, 1, 0, 0, 0, 0, 0,\n",
       "       1, 0, 0, 0, 0, 0, 0, 0], dtype=int64)"
      ]
     },
     "execution_count": 22,
     "metadata": {},
     "output_type": "execute_result"
    }
   ],
   "source": [
    "Y_pred = model.predict(X_test)\n",
    "Y_pred"
   ]
  },
  {
   "cell_type": "code",
   "execution_count": 23,
   "id": "7cbfb3c7",
   "metadata": {},
   "outputs": [
    {
     "name": "stdout",
     "output_type": "stream",
     "text": [
      "ACCURACY SCORE :0.8918918918918919\n"
     ]
    }
   ],
   "source": [
    "from sklearn.metrics import accuracy_score\n",
    "print(\"ACCURACY SCORE :{}\".format(accuracy_score(Y_test , Y_pred)))"
   ]
  },
  {
   "cell_type": "code",
   "execution_count": 24,
   "id": "0522cc35",
   "metadata": {},
   "outputs": [
    {
     "name": "stdout",
     "output_type": "stream",
     "text": [
      "TRAINING DATA SCORE : 0.886986301369863\n",
      "TESTING DATA SCORE : 0.8918918918918919\n"
     ]
    }
   ],
   "source": [
    "print(\"TRAINING DATA SCORE : {}\".format(model.score(X_train , Y_train)))\n",
    "print(\"TESTING DATA SCORE : {}\".format(model.score(X_test , Y_test)))"
   ]
  },
  {
   "cell_type": "code",
   "execution_count": 25,
   "id": "558e9f28",
   "metadata": {},
   "outputs": [],
   "source": [
    "import pickle\n",
    "with open('scaler.pkl' , 'wb') as file:\n",
    "    pickle.dump(SS , file)"
   ]
  },
  {
   "cell_type": "code",
   "execution_count": 26,
   "id": "fd6f202c",
   "metadata": {},
   "outputs": [],
   "source": [
    "with open('logreg.pkl' , 'wb') as file:\n",
    "    pickle.dump(model , file)"
   ]
  },
  {
   "cell_type": "code",
   "execution_count": null,
   "id": "6b28bd7b",
   "metadata": {},
   "outputs": [],
   "source": []
  }
 ],
 "metadata": {
  "kernelspec": {
   "display_name": "Python 3 (ipykernel)",
   "language": "python",
   "name": "python3"
  },
  "language_info": {
   "codemirror_mode": {
    "name": "ipython",
    "version": 3
   },
   "file_extension": ".py",
   "mimetype": "text/x-python",
   "name": "python",
   "nbconvert_exporter": "python",
   "pygments_lexer": "ipython3",
   "version": "3.10.2"
  }
 },
 "nbformat": 4,
 "nbformat_minor": 5
}
